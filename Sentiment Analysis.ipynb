{
  "nbformat": 4,
  "nbformat_minor": 0,
  "metadata": {
    "colab": {
      "provenance": []
    },
    "kernelspec": {
      "name": "python3",
      "display_name": "Python 3"
    },
    "language_info": {
      "name": "python"
    }
  },
  "cells": [
    {
      "cell_type": "code",
      "source": [
        "!pip install selenium"
      ],
      "metadata": {
        "colab": {
          "base_uri": "https://localhost:8080/"
        },
        "id": "yaaEukJQ-HwH",
        "outputId": "d08b913b-e09c-40e1-a4d9-6ad839ef474a"
      },
      "execution_count": 2,
      "outputs": [
        {
          "output_type": "stream",
          "name": "stdout",
          "text": [
            "Collecting selenium\n",
            "  Downloading selenium-4.21.0-py3-none-any.whl (9.5 MB)\n",
            "\u001b[2K     \u001b[90m━━━━━━━━━━━━━━━━━━━━━━━━━━━━━━━━━━━━━━━━\u001b[0m \u001b[32m9.5/9.5 MB\u001b[0m \u001b[31m55.0 MB/s\u001b[0m eta \u001b[36m0:00:00\u001b[0m\n",
            "\u001b[?25hRequirement already satisfied: urllib3[socks]<3,>=1.26 in /usr/local/lib/python3.10/dist-packages (from selenium) (2.0.7)\n",
            "Collecting trio~=0.17 (from selenium)\n",
            "  Downloading trio-0.25.1-py3-none-any.whl (467 kB)\n",
            "\u001b[2K     \u001b[90m━━━━━━━━━━━━━━━━━━━━━━━━━━━━━━━━━━━━━━━━\u001b[0m \u001b[32m467.7/467.7 kB\u001b[0m \u001b[31m32.6 MB/s\u001b[0m eta \u001b[36m0:00:00\u001b[0m\n",
            "\u001b[?25hCollecting trio-websocket~=0.9 (from selenium)\n",
            "  Downloading trio_websocket-0.11.1-py3-none-any.whl (17 kB)\n",
            "Requirement already satisfied: certifi>=2021.10.8 in /usr/local/lib/python3.10/dist-packages (from selenium) (2024.6.2)\n",
            "Requirement already satisfied: typing_extensions>=4.9.0 in /usr/local/lib/python3.10/dist-packages (from selenium) (4.12.2)\n",
            "Requirement already satisfied: attrs>=23.2.0 in /usr/local/lib/python3.10/dist-packages (from trio~=0.17->selenium) (23.2.0)\n",
            "Requirement already satisfied: sortedcontainers in /usr/local/lib/python3.10/dist-packages (from trio~=0.17->selenium) (2.4.0)\n",
            "Requirement already satisfied: idna in /usr/local/lib/python3.10/dist-packages (from trio~=0.17->selenium) (3.7)\n",
            "Collecting outcome (from trio~=0.17->selenium)\n",
            "  Downloading outcome-1.3.0.post0-py2.py3-none-any.whl (10 kB)\n",
            "Requirement already satisfied: sniffio>=1.3.0 in /usr/local/lib/python3.10/dist-packages (from trio~=0.17->selenium) (1.3.1)\n",
            "Requirement already satisfied: exceptiongroup in /usr/local/lib/python3.10/dist-packages (from trio~=0.17->selenium) (1.2.1)\n",
            "Collecting wsproto>=0.14 (from trio-websocket~=0.9->selenium)\n",
            "  Downloading wsproto-1.2.0-py3-none-any.whl (24 kB)\n",
            "Requirement already satisfied: pysocks!=1.5.7,<2.0,>=1.5.6 in /usr/local/lib/python3.10/dist-packages (from urllib3[socks]<3,>=1.26->selenium) (1.7.1)\n",
            "Collecting h11<1,>=0.9.0 (from wsproto>=0.14->trio-websocket~=0.9->selenium)\n",
            "  Downloading h11-0.14.0-py3-none-any.whl (58 kB)\n",
            "\u001b[2K     \u001b[90m━━━━━━━━━━━━━━━━━━━━━━━━━━━━━━━━━━━━━━━━\u001b[0m \u001b[32m58.3/58.3 kB\u001b[0m \u001b[31m5.9 MB/s\u001b[0m eta \u001b[36m0:00:00\u001b[0m\n",
            "\u001b[?25hInstalling collected packages: outcome, h11, wsproto, trio, trio-websocket, selenium\n",
            "Successfully installed h11-0.14.0 outcome-1.3.0.post0 selenium-4.21.0 trio-0.25.1 trio-websocket-0.11.1 wsproto-1.2.0\n"
          ]
        }
      ]
    },
    {
      "cell_type": "code",
      "source": [
        "import selenium\n",
        "from selenium import webdriver\n",
        "from selenium.webdriver.common.by import By\n",
        "from selenium.webdriver.common.keys import Keys\n",
        "from time import sleep\n",
        "import getpass"
      ],
      "metadata": {
        "id": "if0Bg1EgAZz6"
      },
      "execution_count": 3,
      "outputs": []
    },
    {
      "cell_type": "code",
      "source": [
        "my_user = \"madhavmgupta\"\n",
        "# my_pass = getpass.getpass()\n",
        "my_pass = \"Madav@123\""
      ],
      "metadata": {
        "id": "EjONDskVAffh"
      },
      "execution_count": 4,
      "outputs": []
    },
    {
      "cell_type": "code",
      "source": [
        "search_item = \"Liz Truss\""
      ],
      "metadata": {
        "id": "nzgYCxtvBu7z"
      },
      "execution_count": 5,
      "outputs": []
    },
    {
      "cell_type": "code",
      "source": [
        "PATH=\"C:\\Program Files\\Driver\\chromedriver.exe\""
      ],
      "metadata": {
        "id": "ztVEIpL0oGjz"
      },
      "execution_count": 7,
      "outputs": []
    },
    {
      "cell_type": "code",
      "source": [
        "PATH = \"C:\\Program Files\\Driver\\chromedriver.exe\"\n",
        "driver = webdriver.Chrome(PATH)\n",
        "driver.get(\"https://twitter.com/i/flow/login\")\n",
        "# driver.maximize_window()\n",
        "sleep(3)"
      ],
      "metadata": {
        "id": "RQuUG6Fy1udj"
      },
      "execution_count": null,
      "outputs": []
    },
    {
      "cell_type": "code",
      "source": [
        "\n",
        "user_id = driver.find_element(By.XPATH,\"//input[@type='text']\")\n",
        "user_id.send_keys(my_user)\n",
        "user_id.send_keys(Keys.ENTER)"
      ],
      "metadata": {
        "id": "uIMqcxHa1vYW"
      },
      "execution_count": null,
      "outputs": []
    },
    {
      "cell_type": "code",
      "source": [
        "password = driver.find_element(By.XPATH,\"//input[@type='password']\")\n",
        "password.send_keys(my_pass)\n",
        "password.send_keys(Keys.ENTER)"
      ],
      "metadata": {
        "id": "ykG8nwDF11iN"
      },
      "execution_count": null,
      "outputs": []
    },
    {
      "cell_type": "code",
      "source": [
        "search_box = driver.find_element(By.XPATH,\"//input[@data-testid='SearchBox_Search_Input']\")\n",
        "search_box.send_keys(search_item)\n",
        "search_box.send_keys(Keys.ENTER)"
      ],
      "metadata": {
        "id": "C8xVSVBW13DY"
      },
      "execution_count": null,
      "outputs": []
    },
    {
      "cell_type": "code",
      "source": [
        "\n",
        "all_tweets = set()"
      ],
      "metadata": {
        "id": "fEAJhdPp16lu"
      },
      "execution_count": null,
      "outputs": []
    },
    {
      "cell_type": "code",
      "source": [
        "\n",
        "tweets = driver.find_elements(By.XPATH,\"//div[@data-testid='tweetText']\")\n",
        "while True:\n",
        "    for tweet in tweets:\n",
        "        all_tweets.add(tweet.text)\n",
        "    driver.execute_script('window.scrollTo(0, document.body.scrollHeight);')\n",
        "    sleep(3)\n",
        "    tweets = driver.find_elements(By.XPATH,\"//div[@data-testid='tweetText']\")\n",
        "    if len(all_tweets)>50:\n",
        "        break\n"
      ],
      "metadata": {
        "id": "1Y9GXiss198c"
      },
      "execution_count": null,
      "outputs": []
    },
    {
      "cell_type": "code",
      "source": [
        "\n",
        "all_tweets = list(all_tweets)\n",
        "all_tweets[0]\n",
        "\n"
      ],
      "metadata": {
        "id": "anbwLxIh2Am8"
      },
      "execution_count": null,
      "outputs": []
    },
    {
      "cell_type": "code",
      "source": [
        "\n",
        "import pandas as pd\n",
        "pd.options.display.max_colwidth = 1000\n",
        "import re\n",
        "import nltk\n",
        "nltk.download('punkt')\n",
        "nltk.download('stopwords')"
      ],
      "metadata": {
        "id": "l8o2TqEj2CrA"
      },
      "execution_count": null,
      "outputs": []
    },
    {
      "cell_type": "code",
      "source": [
        "from nltk.corpus import stopwords\n",
        "from nltk.tokenize import word_tokenize"
      ],
      "metadata": {
        "id": "IIR8-wcS2DNm"
      },
      "execution_count": null,
      "outputs": []
    },
    {
      "cell_type": "code",
      "source": [
        "stp_words = stopwords.words('english')\n",
        "print(stp_words)\n"
      ],
      "metadata": {
        "id": "jPREhvLU2E51"
      },
      "execution_count": null,
      "outputs": []
    },
    {
      "cell_type": "code",
      "source": [
        "\n",
        "df = pd.DataFrame(all_tweets,columns=['tweets'])\n",
        "df.head()"
      ],
      "metadata": {
        "id": "6ExNKBSc2GxG"
      },
      "execution_count": null,
      "outputs": []
    },
    {
      "cell_type": "code",
      "source": [
        "one_tweet=df.iloc[4]['tweets']\n",
        "one_tweet"
      ],
      "metadata": {
        "id": "PuWaudUR2Iju"
      },
      "execution_count": null,
      "outputs": []
    },
    {
      "cell_type": "code",
      "source": [
        "\n",
        "from textblob import TextBlob\n",
        "from wordcloud import WordCloud"
      ],
      "metadata": {
        "id": "tyO_E13X2Kek"
      },
      "execution_count": null,
      "outputs": []
    },
    {
      "cell_type": "code",
      "source": [
        "def TweetCleaning(tweet):\n",
        "    cleanTweet = re.sub(r\"@[a-zA-Z0-9]+\",\"\",tweet)\n",
        "    cleanTweet = re.sub(r\"#[a-zA-Z0-9\\s]+\",\"\",cleanTweet)\n",
        "    cleanTweet = ' '.join(word for word in cleanTweet.split() if word not in stp_words)\n",
        "    return cleanTweet"
      ],
      "metadata": {
        "id": "QIMhCd3K2MNc"
      },
      "execution_count": null,
      "outputs": []
    },
    {
      "cell_type": "code",
      "source": [
        "def calPolarity(tweet):\n",
        "    return TextBlob(tweet).sentiment.polarity"
      ],
      "metadata": {
        "id": "lUY0mJvO2OH0"
      },
      "execution_count": null,
      "outputs": []
    },
    {
      "cell_type": "code",
      "source": [
        "def calSubjectivity(tweet):\n",
        "    return TextBlob(tweet).sentiment.subjectivity"
      ],
      "metadata": {
        "id": "G0gJPIO62U19"
      },
      "execution_count": null,
      "outputs": []
    },
    {
      "cell_type": "code",
      "source": [
        "def segmentation(tweet):\n",
        "    if tweet > 0:\n",
        "        return \"positive\"\n",
        "    if tweet == 0:\n",
        "        return \"neutral\"\n",
        "    else:\n",
        "        return \"negative\"\n"
      ],
      "metadata": {
        "id": "Zradk7Cf2Wyo"
      },
      "execution_count": null,
      "outputs": []
    },
    {
      "cell_type": "code",
      "source": [
        "df['cleanedTweets'] = df['tweets'].apply(TweetCleaning)\n",
        "df['tPolarity'] = df['cleanedTweets'].apply(calPolarity)\n",
        "df['tSubjectivity'] = df['cleanedTweets'].apply(calSubjectivity)\n",
        "df['segmentation'] = df['tPolarity'].apply(segmentation)\n",
        "df.head()\n"
      ],
      "metadata": {
        "id": "926rVNFN2ZlE"
      },
      "execution_count": null,
      "outputs": []
    },
    {
      "cell_type": "code",
      "source": [
        "df.pivot_table(index=['segmentation'],aggfunc={'segmentation':'count'})"
      ],
      "metadata": {
        "id": "niQYVVsp2bIf"
      },
      "execution_count": null,
      "outputs": []
    },
    {
      "cell_type": "code",
      "source": [
        "df.sort_values(by=['tPolarity'],ascending=False).head(3)"
      ],
      "metadata": {
        "id": "TsnYSQI02eVp"
      },
      "execution_count": null,
      "outputs": []
    },
    {
      "cell_type": "code",
      "source": [
        "\n",
        "df.sort_values(by=['tPolarity'],ascending=True).head(3)"
      ],
      "metadata": {
        "id": "m2IPeBpq2gTJ"
      },
      "execution_count": null,
      "outputs": []
    },
    {
      "cell_type": "code",
      "source": [
        "df[df.tPolarity==0]"
      ],
      "metadata": {
        "id": "vlsMEE-42jX7"
      },
      "execution_count": null,
      "outputs": []
    },
    {
      "cell_type": "code",
      "source": [
        "import matplotlib.pyplot as plt\n",
        "consolidated = ' '.join(word for word in df['cleanedTweets'])\n",
        "\n",
        "wordCloud = WordCloud(width=400, height=200, random_state=20, max_font_size=119).generate(consolidated)\n",
        "\n",
        "plt.imshow(wordCloud, interpolation='bilinear')\n",
        "plt.axis('off')\n",
        "plt.show()\n"
      ],
      "metadata": {
        "id": "6OgrUBOh2lBV"
      },
      "execution_count": null,
      "outputs": []
    },
    {
      "cell_type": "code",
      "source": [
        "\n",
        "import seaborn as sns"
      ],
      "metadata": {
        "id": "u85YC_OL2mHk"
      },
      "execution_count": null,
      "outputs": []
    },
    {
      "cell_type": "code",
      "source": [
        "\n",
        "df.groupby('segmentation').count()\n"
      ],
      "metadata": {
        "id": "SD-K9Tq42rkE"
      },
      "execution_count": null,
      "outputs": []
    },
    {
      "cell_type": "code",
      "source": [
        "\n",
        "plt.figure(figsize=(10,5))\n",
        "sns.set_style(\"whitegrid\")\n",
        "sns.scatterplot(data=df, x='tPolarity',y='tSubjectivity',s=100,hue='segmentation')\n",
        "\n"
      ],
      "metadata": {
        "id": "z60HnJno2uNz"
      },
      "execution_count": null,
      "outputs": []
    },
    {
      "cell_type": "code",
      "source": [
        "\n",
        "sns.countplot(data=df,x='segmentation')\n"
      ],
      "metadata": {
        "id": "sx2_oHjM2wIu"
      },
      "execution_count": null,
      "outputs": []
    },
    {
      "cell_type": "code",
      "source": [
        "positive = round(len(df[df.segmentation == 'positive'])/len(df)*100,1)\n",
        "negative = round(len(df[df.segmentation == 'negative'])/len(df)*100,1)\n",
        "neutral = round(len(df[df.segmentation == 'neutral'])/len(df)*100,1)\n",
        "\n",
        "\n",
        "responses = [positive, negative, neutral]\n",
        "responses\n",
        "\n",
        "response = {'resp': ['mayWin', 'mayLoose', 'notSure'], 'pct':[positive, negative, neutral]}\n",
        "pd.DataFrame(response)"
      ],
      "metadata": {
        "id": "6_Y0Lzve2y5l"
      },
      "execution_count": null,
      "outputs": []
    }
  ]
}